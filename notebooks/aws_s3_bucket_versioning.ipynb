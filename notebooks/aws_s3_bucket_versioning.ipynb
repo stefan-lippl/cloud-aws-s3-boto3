{
 "cells": [
  {
   "cell_type": "markdown",
   "metadata": {},
   "source": [
    "![title](../data/media/title_versioning.png)"
   ]
  },
  {
   "cell_type": "code",
   "execution_count": 1,
   "metadata": {},
   "outputs": [],
   "source": [
    "#pip install -r ../requirements.txt"
   ]
  },
  {
   "cell_type": "code",
   "execution_count": 2,
   "metadata": {},
   "outputs": [],
   "source": [
    "import boto3\n",
    "import aws_config"
   ]
  },
  {
   "cell_type": "markdown",
   "metadata": {},
   "source": [
    "<br>\n",
    "\n",
    "***\n",
    "\n",
    "<br>"
   ]
  },
  {
   "cell_type": "markdown",
   "metadata": {},
   "source": [
    "## Verbindung herstellen"
   ]
  },
  {
   "cell_type": "markdown",
   "metadata": {},
   "source": [
    "![title](../data/media/login.png)"
   ]
  },
  {
   "cell_type": "markdown",
   "metadata": {},
   "source": [
    "<br>\n",
    "\n",
    "Zuerst muss eine *Verbindung* mit dem persönlichen AWS Account herstellt werden. Dies geschieht über die `.client`-Funktion von *boto3*.\n",
    "\n",
    "Die jeweiligen *Credentials* können einfach mittels der `aws_config` Datei eingebunden, oder einfach mittels *String*-Eingabe übergeben werden."
   ]
  },
  {
   "cell_type": "code",
   "execution_count": 3,
   "metadata": {},
   "outputs": [],
   "source": [
    "# connect with the AWS environment \n",
    "\n",
    "s3_resource = aws_config.s3r"
   ]
  },
  {
   "cell_type": "code",
   "execution_count": 4,
   "metadata": {},
   "outputs": [
    {
     "data": {
      "text/plain": [
       "s3.ServiceResource()"
      ]
     },
     "execution_count": 4,
     "metadata": {},
     "output_type": "execute_result"
    }
   ],
   "source": [
    "s3_resource"
   ]
  },
  {
   "cell_type": "markdown",
   "metadata": {},
   "source": [
    "<br>\n",
    "\n",
    "***\n",
    "\n",
    "<br>"
   ]
  },
  {
   "cell_type": "markdown",
   "metadata": {},
   "source": [
    "## Parameter & API: `GET` (Status) der aktuellen Versionierung"
   ]
  },
  {
   "cell_type": "markdown",
   "metadata": {},
   "source": [
    "`s3_resource.BucketVersioning(Bucket=bucket).status`"
   ]
  },
  {
   "cell_type": "markdown",
   "metadata": {},
   "source": [
    "![title](../data/media/desc_bucket_versioning_get.png)"
   ]
  },
  {
   "cell_type": "code",
   "execution_count": 5,
   "metadata": {},
   "outputs": [],
   "source": [
    "bucket = 'slippl'"
   ]
  },
  {
   "cell_type": "code",
   "execution_count": 12,
   "metadata": {},
   "outputs": [
    {
     "name": "stdout",
     "output_type": "stream",
     "text": [
      "S3 Bucket versioning: Suspended\n"
     ]
    }
   ],
   "source": [
    "try:\n",
    "    versioning = s3_resource.BucketVersioning(bucket)\n",
    "    print(f'S3 Bucket versioning: {versioning.status}')\n",
    "\n",
    "except Exception as e:\n",
    "    print(e)"
   ]
  },
  {
   "cell_type": "markdown",
   "metadata": {},
   "source": [
    "<br>\n",
    "\n",
    "***\n",
    "\n",
    "<br>"
   ]
  },
  {
   "cell_type": "markdown",
   "metadata": {},
   "source": [
    "## Parameter & API: `Aktivieren` der Versionierung"
   ]
  },
  {
   "cell_type": "markdown",
   "metadata": {},
   "source": [
    "`s3_resource.BucketVersioning(Bucket=bucket).enable()`"
   ]
  },
  {
   "cell_type": "markdown",
   "metadata": {},
   "source": [
    "![title](../data/media/desc_bucket_versioning_enable.png)"
   ]
  },
  {
   "cell_type": "code",
   "execution_count": 7,
   "metadata": {},
   "outputs": [],
   "source": [
    "bucket = 'slippl'"
   ]
  },
  {
   "cell_type": "code",
   "execution_count": 8,
   "metadata": {},
   "outputs": [
    {
     "name": "stdout",
     "output_type": "stream",
     "text": [
      "S3 Bucket versioning: Enabled\n"
     ]
    }
   ],
   "source": [
    "try:\n",
    "    versioning = s3_resource.BucketVersioning(bucket)\n",
    "    versioning.enable()\n",
    "    print(f'S3 Bucket versioning: {versioning.status}')\n",
    "except Exception as e:\n",
    "    print(e)"
   ]
  },
  {
   "cell_type": "markdown",
   "metadata": {},
   "source": [
    "<br>\n",
    "\n",
    "***\n",
    "\n",
    "<br>"
   ]
  },
  {
   "cell_type": "markdown",
   "metadata": {},
   "source": [
    "## Parameter & API: `Deaktivieren` der Versionierung"
   ]
  },
  {
   "cell_type": "markdown",
   "metadata": {},
   "source": [
    "`s3_resource.BucketVersioning(Bucket=bucket).suspend()`"
   ]
  },
  {
   "cell_type": "markdown",
   "metadata": {},
   "source": [
    "![title](../data/media/desc_bucket_versioning_suspend.png)"
   ]
  },
  {
   "cell_type": "code",
   "execution_count": 10,
   "metadata": {},
   "outputs": [],
   "source": [
    "bucket = 'slippl'"
   ]
  },
  {
   "cell_type": "code",
   "execution_count": 11,
   "metadata": {},
   "outputs": [
    {
     "name": "stdout",
     "output_type": "stream",
     "text": [
      "S3 Bucket versioning: Suspended\n"
     ]
    }
   ],
   "source": [
    "try:\n",
    "    versioning = s3_resource.BucketVersioning(bucket)\n",
    "    versioning.suspend()\n",
    "    print(f'S3 Bucket versioning: {versioning.status}')\n",
    "except Exception as e:\n",
    "    print(e)"
   ]
  },
  {
   "cell_type": "markdown",
   "metadata": {},
   "source": [
    "***"
   ]
  },
  {
   "cell_type": "markdown",
   "metadata": {},
   "source": [
    "Links:\n",
    "\n",
    "- https://docs.aws.amazon.com/AmazonS3/latest/userguide/RestoringPreviousVersions.html"
   ]
  }
 ],
 "metadata": {
  "kernelspec": {
   "display_name": "Python 3.9.12",
   "language": "python",
   "name": "python3"
  },
  "language_info": {
   "codemirror_mode": {
    "name": "ipython",
    "version": 3
   },
   "file_extension": ".py",
   "mimetype": "text/x-python",
   "name": "python",
   "nbconvert_exporter": "python",
   "pygments_lexer": "ipython3",
   "version": "3.9.12"
  },
  "orig_nbformat": 4,
  "vscode": {
   "interpreter": {
    "hash": "c16943b8ea35d0b37fa7147d42b2e6641ce75e35fff1626e1fb776e821671979"
   }
  }
 },
 "nbformat": 4,
 "nbformat_minor": 2
}
