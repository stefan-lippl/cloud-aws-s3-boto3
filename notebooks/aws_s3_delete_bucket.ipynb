{
 "cells": [
  {
   "cell_type": "markdown",
   "metadata": {},
   "source": [
    "![title](../data/media/title_delete_bucket.png)"
   ]
  },
  {
   "cell_type": "code",
   "execution_count": 18,
   "metadata": {},
   "outputs": [],
   "source": [
    "#pip install -r ../requirements.txt"
   ]
  },
  {
   "cell_type": "code",
   "execution_count": 1,
   "metadata": {},
   "outputs": [],
   "source": [
    "import boto3\n",
    "import aws_config"
   ]
  },
  {
   "cell_type": "markdown",
   "metadata": {},
   "source": [
    "<br>\n",
    "\n",
    "***\n",
    "\n",
    "<br>"
   ]
  },
  {
   "cell_type": "markdown",
   "metadata": {},
   "source": [
    "## Verbindung herstellen"
   ]
  },
  {
   "cell_type": "markdown",
   "metadata": {},
   "source": [
    "![title](../data/media/login.png)"
   ]
  },
  {
   "cell_type": "markdown",
   "metadata": {},
   "source": [
    "<br>\n",
    "\n",
    "Zuerst muss eine *Verbindung* mit dem persönlichen AWS Account herstellt werden. Dies geschieht über die `.resource`-Funktion von *boto3*.\n",
    "\n",
    "Die jeweiligen *Credentials* können einfach mittels der `aws_config` Datei eingebunden, oder einfach mittels *String*-Eingabe übergeben werden."
   ]
  },
  {
   "cell_type": "code",
   "execution_count": 2,
   "metadata": {},
   "outputs": [],
   "source": [
    "# connect with the AWS environment \n",
    "\n",
    "s3_resource = aws_config.s3r"
   ]
  },
  {
   "cell_type": "code",
   "execution_count": 3,
   "metadata": {},
   "outputs": [
    {
     "data": {
      "text/plain": [
       "s3.ServiceResource()"
      ]
     },
     "execution_count": 3,
     "metadata": {},
     "output_type": "execute_result"
    }
   ],
   "source": [
    "s3_resource"
   ]
  },
  {
   "cell_type": "markdown",
   "metadata": {},
   "source": [
    "<br>\n",
    "\n",
    "***\n",
    "\n",
    "<br>"
   ]
  },
  {
   "cell_type": "markdown",
   "metadata": {},
   "source": [
    "## Parameter & API: `LÖSCHEN` eines Buckets"
   ]
  },
  {
   "cell_type": "markdown",
   "metadata": {},
   "source": [
    "`s3_resource.Bucket(Bucket=bucket).object_versions.delete()`\n",
    "\n",
    "`s3_resource.Bucket(Bucket=bucket).delete()`"
   ]
  },
  {
   "cell_type": "markdown",
   "metadata": {},
   "source": [
    "![title](../data/media/desc_delete_bucket.png)"
   ]
  },
  {
   "cell_type": "code",
   "execution_count": 4,
   "metadata": {},
   "outputs": [],
   "source": [
    "# initialize parameter\n",
    "\n",
    "bucket_n = 'slippl'"
   ]
  },
  {
   "cell_type": "code",
   "execution_count": 5,
   "metadata": {},
   "outputs": [
    {
     "name": "stdout",
     "output_type": "stream",
     "text": [
      "Bucket slippl successfull deleted\n"
     ]
    }
   ],
   "source": [
    "try:\n",
    "    bucket = s3_resource.Bucket(bucket_n)\n",
    "    # step 1: delete all files in the bucket\n",
    "    bucket.object_versions.delete()\n",
    "    # step 2: delete the bucket itself\n",
    "    bucket.delete()\n",
    "    print(f'Bucket {bucket_n} successfull deleted')\n",
    "except Exception as e:\n",
    "    print('Deletion unsuccessfull')\n",
    "    print(e)"
   ]
  }
 ],
 "metadata": {
  "kernelspec": {
   "display_name": "Python 3.9.12",
   "language": "python",
   "name": "python3"
  },
  "language_info": {
   "codemirror_mode": {
    "name": "ipython",
    "version": 3
   },
   "file_extension": ".py",
   "mimetype": "text/x-python",
   "name": "python",
   "nbconvert_exporter": "python",
   "pygments_lexer": "ipython3",
   "version": "3.9.12"
  },
  "orig_nbformat": 4,
  "vscode": {
   "interpreter": {
    "hash": "c16943b8ea35d0b37fa7147d42b2e6641ce75e35fff1626e1fb776e821671979"
   }
  }
 },
 "nbformat": 4,
 "nbformat_minor": 2
}
