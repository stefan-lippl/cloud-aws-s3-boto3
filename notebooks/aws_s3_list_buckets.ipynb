{
 "cells": [
  {
   "cell_type": "markdown",
   "metadata": {},
   "source": [
    "![title](../data/media/title_list_buckets.png)"
   ]
  },
  {
   "cell_type": "code",
   "execution_count": 1,
   "metadata": {},
   "outputs": [],
   "source": [
    "#pip install -r ../requirements.txt"
   ]
  },
  {
   "cell_type": "code",
   "execution_count": 1,
   "metadata": {},
   "outputs": [],
   "source": [
    "import boto3\n",
    "import aws_config"
   ]
  },
  {
   "cell_type": "markdown",
   "metadata": {},
   "source": [
    "<br>\n",
    "\n",
    "***\n",
    "\n",
    "<br>"
   ]
  },
  {
   "cell_type": "markdown",
   "metadata": {},
   "source": [
    "## Verbindung herstellen"
   ]
  },
  {
   "cell_type": "markdown",
   "metadata": {},
   "source": [
    "![title](../data/media/login.png)"
   ]
  },
  {
   "cell_type": "markdown",
   "metadata": {},
   "source": [
    "<br>\n",
    "\n",
    "Zuerst muss eine *Verbindung* mit dem persönlichen AWS Account herstellt werden. Dies geschieht über die `.client`-Funktion von *boto3*.\n",
    "\n",
    "Die jeweiligen *Credentials* können einfach mittels der `aws_config` Datei eingebunden, oder einfach mittels *String*-Eingabe übergeben werden."
   ]
  },
  {
   "cell_type": "code",
   "execution_count": 2,
   "metadata": {},
   "outputs": [],
   "source": [
    "# connect with the AWS environment \n",
    "\n",
    "s3_client = aws_config.s3c"
   ]
  },
  {
   "cell_type": "code",
   "execution_count": 3,
   "metadata": {},
   "outputs": [
    {
     "data": {
      "text/plain": [
       "<botocore.client.S3 at 0x7f94b678f8b0>"
      ]
     },
     "execution_count": 3,
     "metadata": {},
     "output_type": "execute_result"
    }
   ],
   "source": [
    "s3_client"
   ]
  },
  {
   "cell_type": "markdown",
   "metadata": {},
   "source": [
    "<br>\n",
    "\n",
    "***\n",
    "\n",
    "<br>"
   ]
  },
  {
   "cell_type": "markdown",
   "metadata": {},
   "source": [
    "## Parameter und API: `AUFLISTEN` von Buckets mit `Client`"
   ]
  },
  {
   "cell_type": "markdown",
   "metadata": {},
   "source": [
    "`s3_client.list_buckets()`"
   ]
  },
  {
   "cell_type": "markdown",
   "metadata": {},
   "source": [
    "![title](../data/media/desc_list_buckets.png)"
   ]
  },
  {
   "cell_type": "code",
   "execution_count": 4,
   "metadata": {},
   "outputs": [],
   "source": [
    "try:\n",
    "    response = s3_client.list_buckets()\n",
    "    \n",
    "except Exception as e:\n",
    "    print(e)"
   ]
  },
  {
   "cell_type": "code",
   "execution_count": 5,
   "metadata": {},
   "outputs": [
    {
     "data": {
      "text/plain": [
       "{'ResponseMetadata': {'RequestId': 'X7X0CCZ9EP0N4H5V',\n",
       "  'HostId': 'LSZbla04FXz3RwqH8IiVgtgwTzivDUQkhPfd0y2+KwEkDyp+11U9WA6fJpIsHi/mFuSG/8E3pFU=',\n",
       "  'HTTPStatusCode': 200,\n",
       "  'HTTPHeaders': {'x-amz-id-2': 'LSZbla04FXz3RwqH8IiVgtgwTzivDUQkhPfd0y2+KwEkDyp+11U9WA6fJpIsHi/mFuSG/8E3pFU=',\n",
       "   'x-amz-request-id': 'X7X0CCZ9EP0N4H5V',\n",
       "   'date': 'Sun, 18 Sep 2022 08:55:19 GMT',\n",
       "   'content-type': 'application/xml',\n",
       "   'transfer-encoding': 'chunked',\n",
       "   'server': 'AmazonS3'},\n",
       "  'RetryAttempts': 0},\n",
       " 'Buckets': [{'Name': 'slippl',\n",
       "   'CreationDate': datetime.datetime(2022, 9, 17, 15, 38, 34, tzinfo=tzutc())},\n",
       "  {'Name': 'slippl3',\n",
       "   'CreationDate': datetime.datetime(2022, 9, 10, 9, 38, 26, tzinfo=tzutc())},\n",
       "  {'Name': 'slippl4',\n",
       "   'CreationDate': datetime.datetime(2022, 9, 10, 9, 50, 25, tzinfo=tzutc())},\n",
       "  {'Name': 'slippl5',\n",
       "   'CreationDate': datetime.datetime(2022, 9, 10, 9, 56, 35, tzinfo=tzutc())},\n",
       "  {'Name': 'slippl6',\n",
       "   'CreationDate': datetime.datetime(2022, 9, 10, 9, 56, 52, tzinfo=tzutc())},\n",
       "  {'Name': 'slippl7',\n",
       "   'CreationDate': datetime.datetime(2022, 9, 10, 9, 57, 45, tzinfo=tzutc())},\n",
       "  {'Name': 'slippl8',\n",
       "   'CreationDate': datetime.datetime(2022, 9, 10, 9, 58, 38, tzinfo=tzutc())},\n",
       "  {'Name': 'slippl9',\n",
       "   'CreationDate': datetime.datetime(2022, 9, 10, 9, 59, 48, tzinfo=tzutc())}],\n",
       " 'Owner': {'ID': '9e4587b7d7ae6f403673c6561fa9e217a7f9116499f3dfd31d61eba95e0ffebc'}}"
      ]
     },
     "execution_count": 5,
     "metadata": {},
     "output_type": "execute_result"
    }
   ],
   "source": [
    "response"
   ]
  },
  {
   "cell_type": "code",
   "execution_count": 6,
   "metadata": {},
   "outputs": [
    {
     "data": {
      "text/plain": [
       "[{'Name': 'slippl',\n",
       "  'CreationDate': datetime.datetime(2022, 9, 10, 9, 18, 31, tzinfo=tzutc())},\n",
       " {'Name': 'slippl3',\n",
       "  'CreationDate': datetime.datetime(2022, 9, 10, 9, 38, 26, tzinfo=tzutc())},\n",
       " {'Name': 'slippl4',\n",
       "  'CreationDate': datetime.datetime(2022, 9, 10, 9, 50, 25, tzinfo=tzutc())},\n",
       " {'Name': 'slippl5',\n",
       "  'CreationDate': datetime.datetime(2022, 9, 10, 9, 56, 35, tzinfo=tzutc())},\n",
       " {'Name': 'slippl6',\n",
       "  'CreationDate': datetime.datetime(2022, 9, 10, 9, 56, 52, tzinfo=tzutc())},\n",
       " {'Name': 'slippl7',\n",
       "  'CreationDate': datetime.datetime(2022, 9, 10, 9, 57, 45, tzinfo=tzutc())},\n",
       " {'Name': 'slippl8',\n",
       "  'CreationDate': datetime.datetime(2022, 9, 10, 9, 58, 38, tzinfo=tzutc())},\n",
       " {'Name': 'slippl9',\n",
       "  'CreationDate': datetime.datetime(2022, 9, 10, 9, 59, 48, tzinfo=tzutc())}]"
      ]
     },
     "execution_count": 6,
     "metadata": {},
     "output_type": "execute_result"
    }
   ],
   "source": [
    "response['Buckets']"
   ]
  },
  {
   "cell_type": "code",
   "execution_count": 11,
   "metadata": {},
   "outputs": [
    {
     "name": "stdout",
     "output_type": "stream",
     "text": [
      "slippl\n",
      "slippl3\n",
      "slippl4\n",
      "slippl5\n",
      "slippl6\n",
      "slippl7\n",
      "slippl8\n",
      "slippl9\n"
     ]
    }
   ],
   "source": [
    "l_bucket = []\n",
    "\n",
    "for i in range(len(response['Buckets'])):\n",
    "    l_bucket.append(response['Buckets'][i]['Name'])\n",
    "    print(response['Buckets'][i]['Name'])"
   ]
  },
  {
   "cell_type": "code",
   "execution_count": 8,
   "metadata": {},
   "outputs": [
    {
     "data": {
      "text/plain": [
       "['slippl',\n",
       " 'slippl3',\n",
       " 'slippl4',\n",
       " 'slippl5',\n",
       " 'slippl6',\n",
       " 'slippl7',\n",
       " 'slippl8',\n",
       " 'slippl9']"
      ]
     },
     "execution_count": 8,
     "metadata": {},
     "output_type": "execute_result"
    }
   ],
   "source": [
    "l_bucket"
   ]
  },
  {
   "cell_type": "markdown",
   "metadata": {},
   "source": [
    "***"
   ]
  },
  {
   "cell_type": "markdown",
   "metadata": {},
   "source": [
    "## Parameter und API: `AUFLISTEN` von Buckets mit `Resource`"
   ]
  },
  {
   "cell_type": "markdown",
   "metadata": {},
   "source": [
    "`s3_resource.buckets.all()`"
   ]
  },
  {
   "cell_type": "markdown",
   "metadata": {},
   "source": [
    "![title](../data/media/desc_list_buckets_2.png)"
   ]
  },
  {
   "cell_type": "code",
   "execution_count": 12,
   "metadata": {},
   "outputs": [],
   "source": [
    "# connect with the AWS environment \n",
    "\n",
    "s3_resource = boto3.resource(\n",
    "    's3',\n",
    "    region_name = aws_config.region_name,\n",
    "    aws_access_key_id = aws_config.client_key,\n",
    "    aws_secret_access_key = aws_config.secret\n",
    ")"
   ]
  },
  {
   "cell_type": "code",
   "execution_count": 13,
   "metadata": {},
   "outputs": [],
   "source": [
    "try:\n",
    "    response = s3_resource.buckets.all()\n",
    "    \n",
    "except Exception as e:\n",
    "    print(e)"
   ]
  },
  {
   "cell_type": "code",
   "execution_count": 17,
   "metadata": {},
   "outputs": [
    {
     "name": "stdout",
     "output_type": "stream",
     "text": [
      "ResourceMeta('s3', identifiers=['name'])\n",
      "ResourceMeta('s3', identifiers=['name'])\n",
      "ResourceMeta('s3', identifiers=['name'])\n",
      "ResourceMeta('s3', identifiers=['name'])\n",
      "ResourceMeta('s3', identifiers=['name'])\n",
      "ResourceMeta('s3', identifiers=['name'])\n",
      "ResourceMeta('s3', identifiers=['name'])\n",
      "ResourceMeta('s3', identifiers=['name'])\n"
     ]
    }
   ],
   "source": [
    "l = []\n",
    "\n",
    "for bucket in response:\n",
    "    print(bucket.name)\n",
    "    l.append(bucket.name)"
   ]
  },
  {
   "cell_type": "code",
   "execution_count": 15,
   "metadata": {},
   "outputs": [
    {
     "data": {
      "text/plain": [
       "['slippl',\n",
       " 'slippl3',\n",
       " 'slippl4',\n",
       " 'slippl5',\n",
       " 'slippl6',\n",
       " 'slippl7',\n",
       " 'slippl8',\n",
       " 'slippl9']"
      ]
     },
     "execution_count": 15,
     "metadata": {},
     "output_type": "execute_result"
    }
   ],
   "source": [
    "l"
   ]
  }
 ],
 "metadata": {
  "kernelspec": {
   "display_name": "Python 3.9.12",
   "language": "python",
   "name": "python3"
  },
  "language_info": {
   "codemirror_mode": {
    "name": "ipython",
    "version": 3
   },
   "file_extension": ".py",
   "mimetype": "text/x-python",
   "name": "python",
   "nbconvert_exporter": "python",
   "pygments_lexer": "ipython3",
   "version": "3.9.12"
  },
  "orig_nbformat": 4,
  "vscode": {
   "interpreter": {
    "hash": "c16943b8ea35d0b37fa7147d42b2e6641ce75e35fff1626e1fb776e821671979"
   }
  }
 },
 "nbformat": 4,
 "nbformat_minor": 2
}
