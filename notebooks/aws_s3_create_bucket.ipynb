{
 "cells": [
  {
   "cell_type": "markdown",
   "metadata": {},
   "source": [
    "![title](../data/media/title_create_bucket.png)"
   ]
  },
  {
   "cell_type": "code",
   "execution_count": 10,
   "metadata": {},
   "outputs": [],
   "source": [
    "#pip install -r ../requirements.txt"
   ]
  },
  {
   "cell_type": "code",
   "execution_count": 11,
   "metadata": {},
   "outputs": [],
   "source": [
    "import boto3\n",
    "from botocore.exceptions import ClientError\n",
    "import aws_config"
   ]
  },
  {
   "cell_type": "markdown",
   "metadata": {},
   "source": [
    "<br>\n",
    "\n",
    "***\n",
    "\n",
    "<br>"
   ]
  },
  {
   "cell_type": "markdown",
   "metadata": {},
   "source": [
    "## Verbindung herstellen"
   ]
  },
  {
   "cell_type": "markdown",
   "metadata": {},
   "source": [
    "![title](../data/media/login.png)"
   ]
  },
  {
   "cell_type": "markdown",
   "metadata": {},
   "source": [
    "<br>\n",
    "\n",
    "Zuerst muss eine *Verbindung* mit dem persönlichen AWS Account herstellt werden. Dies geschieht über die `.resource`-Funktion von *boto3*.\n",
    "\n",
    "Die jeweiligen *Credentials* können einfach mittels der `aws_config` Datei eingebunden, oder einfach mittels *String*-Eingabe übergeben werden."
   ]
  },
  {
   "cell_type": "code",
   "execution_count": 12,
   "metadata": {},
   "outputs": [],
   "source": [
    "# connect with the AWS environment \n",
    "\n",
    "s3_client = aws_config.s3c"
   ]
  },
  {
   "cell_type": "code",
   "execution_count": 13,
   "metadata": {},
   "outputs": [
    {
     "data": {
      "text/plain": [
       "<botocore.client.S3 at 0x7f937731d880>"
      ]
     },
     "execution_count": 13,
     "metadata": {},
     "output_type": "execute_result"
    }
   ],
   "source": [
    "s3_client"
   ]
  },
  {
   "cell_type": "markdown",
   "metadata": {},
   "source": [
    "<br>\n",
    "\n",
    "***\n",
    "\n",
    "<br>"
   ]
  },
  {
   "cell_type": "markdown",
   "metadata": {},
   "source": [
    "## Parameter & API: `ERSTELLUNG` eines Buckets "
   ]
  },
  {
   "cell_type": "markdown",
   "metadata": {},
   "source": [
    "`s3_client.create_bucket(Bucket=bucket, CreateBucketConfiguration=configuration)`"
   ]
  },
  {
   "cell_type": "markdown",
   "metadata": {},
   "source": [
    "![title](../data/media/desc_create_bucket.png)"
   ]
  },
  {
   "cell_type": "code",
   "execution_count": 14,
   "metadata": {},
   "outputs": [],
   "source": [
    "# initialize parameter\n",
    "\n",
    "bucket = \"slippl-xxx\"\n",
    "\n",
    "config = {\n",
    "    'LocationConstraint': aws_config.region_name\n",
    "}"
   ]
  },
  {
   "cell_type": "code",
   "execution_count": 15,
   "metadata": {},
   "outputs": [
    {
     "data": {
      "text/plain": [
       "'slippl-xxx'"
      ]
     },
     "execution_count": 15,
     "metadata": {},
     "output_type": "execute_result"
    }
   ],
   "source": [
    "bucket"
   ]
  },
  {
   "cell_type": "code",
   "execution_count": 16,
   "metadata": {},
   "outputs": [
    {
     "data": {
      "text/plain": [
       "{'LocationConstraint': 'eu-central-1'}"
      ]
     },
     "execution_count": 16,
     "metadata": {},
     "output_type": "execute_result"
    }
   ],
   "source": [
    "config"
   ]
  },
  {
   "cell_type": "code",
   "execution_count": 17,
   "metadata": {},
   "outputs": [
    {
     "name": "stdout",
     "output_type": "stream",
     "text": [
      "slippl-xxx in region eu-central-1 successfull created.\n",
      "{'ResponseMetadata': {'RequestId': 'T89MM4HD6631VD0H', 'HostId': '5oJgX/4+HXWWLu7FQU7UXQb07pd5L+O/7yItXyLFO4f0Ittg8w6EqfpV19O/9aJxP8SLogt15dN+zlL26BtXng==', 'HTTPStatusCode': 200, 'HTTPHeaders': {'x-amz-id-2': '5oJgX/4+HXWWLu7FQU7UXQb07pd5L+O/7yItXyLFO4f0Ittg8w6EqfpV19O/9aJxP8SLogt15dN+zlL26BtXng==', 'x-amz-request-id': 'T89MM4HD6631VD0H', 'date': 'Sun, 11 Sep 2022 10:54:43 GMT', 'location': 'http://slippl-xxx.s3.amazonaws.com/', 'server': 'AmazonS3', 'content-length': '0'}, 'RetryAttempts': 0}, 'Location': 'http://slippl-xxx.s3.amazonaws.com/'}\n"
     ]
    }
   ],
   "source": [
    "try:\n",
    "    # create the bucket and save the response\n",
    "    response = s3_client.create_bucket(Bucket=bucket, CreateBucketConfiguration=config)\n",
    "    print(f'{bucket} in region {aws_config.region_name} successfull created.')\n",
    "    print(response)\n",
    "    \n",
    "except ClientError as e:\n",
    "    print(e)"
   ]
  },
  {
   "cell_type": "code",
   "execution_count": 18,
   "metadata": {},
   "outputs": [
    {
     "data": {
      "text/plain": [
       "{'RequestId': 'T89MM4HD6631VD0H',\n",
       " 'HostId': '5oJgX/4+HXWWLu7FQU7UXQb07pd5L+O/7yItXyLFO4f0Ittg8w6EqfpV19O/9aJxP8SLogt15dN+zlL26BtXng==',\n",
       " 'HTTPStatusCode': 200,\n",
       " 'HTTPHeaders': {'x-amz-id-2': '5oJgX/4+HXWWLu7FQU7UXQb07pd5L+O/7yItXyLFO4f0Ittg8w6EqfpV19O/9aJxP8SLogt15dN+zlL26BtXng==',\n",
       "  'x-amz-request-id': 'T89MM4HD6631VD0H',\n",
       "  'date': 'Sun, 11 Sep 2022 10:54:43 GMT',\n",
       "  'location': 'http://slippl-xxx.s3.amazonaws.com/',\n",
       "  'server': 'AmazonS3',\n",
       "  'content-length': '0'},\n",
       " 'RetryAttempts': 0}"
      ]
     },
     "execution_count": 18,
     "metadata": {},
     "output_type": "execute_result"
    }
   ],
   "source": [
    "# analyse response metadata\n",
    "\n",
    "response['ResponseMetadata']"
   ]
  },
  {
   "cell_type": "code",
   "execution_count": 19,
   "metadata": {},
   "outputs": [
    {
     "data": {
      "text/plain": [
       "200"
      ]
     },
     "execution_count": 19,
     "metadata": {},
     "output_type": "execute_result"
    }
   ],
   "source": [
    "response['ResponseMetadata']['HTTPStatusCode']"
   ]
  }
 ],
 "metadata": {
  "kernelspec": {
   "display_name": "Python 3.9.12",
   "language": "python",
   "name": "python3"
  },
  "language_info": {
   "codemirror_mode": {
    "name": "ipython",
    "version": 3
   },
   "file_extension": ".py",
   "mimetype": "text/x-python",
   "name": "python",
   "nbconvert_exporter": "python",
   "pygments_lexer": "ipython3",
   "version": "3.9.12"
  },
  "orig_nbformat": 4,
  "vscode": {
   "interpreter": {
    "hash": "c16943b8ea35d0b37fa7147d42b2e6641ce75e35fff1626e1fb776e821671979"
   }
  }
 },
 "nbformat": 4,
 "nbformat_minor": 2
}
