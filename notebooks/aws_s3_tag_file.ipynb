{
 "cells": [
  {
   "cell_type": "markdown",
   "metadata": {},
   "source": [
    "![title](../data/media/title_tag_file.png)"
   ]
  },
  {
   "cell_type": "code",
   "execution_count": null,
   "metadata": {},
   "outputs": [],
   "source": [
    "#pip install -r ../requirements.txt"
   ]
  },
  {
   "cell_type": "code",
   "execution_count": 1,
   "metadata": {},
   "outputs": [],
   "source": [
    "import boto3\n",
    "import aws_config as aws_config"
   ]
  },
  {
   "cell_type": "markdown",
   "metadata": {},
   "source": [
    "<br>\n",
    "\n",
    "***\n",
    "\n",
    "<br>"
   ]
  },
  {
   "cell_type": "markdown",
   "metadata": {},
   "source": [
    "## Verbindung herstellen"
   ]
  },
  {
   "cell_type": "markdown",
   "metadata": {},
   "source": [
    "![title](../data/media/login.png)"
   ]
  },
  {
   "cell_type": "markdown",
   "metadata": {},
   "source": [
    "<br>\n",
    "\n",
    "Zuerst muss eine *Verbindung* mit dem persönlichen AWS Account herstellt werden. Dies geschieht über die `.client`-Funktion von *boto3*.\n",
    "\n",
    "Die jeweiligen *Credentials* können einfach mittels der `aws_config` Datei eingebunden, oder einfach mittels *String*-Eingabe übergeben werden."
   ]
  },
  {
   "cell_type": "code",
   "execution_count": 18,
   "metadata": {},
   "outputs": [],
   "source": [
    "# connect with the AWS environment \n",
    "\n",
    "s3_client = aws_config.s3c"
   ]
  },
  {
   "cell_type": "markdown",
   "metadata": {},
   "source": [
    "<br>\n",
    "\n",
    "***\n",
    "\n",
    "<br>"
   ]
  },
  {
   "cell_type": "markdown",
   "metadata": {},
   "source": [
    "## Parameter & API: `GET` Tagging"
   ]
  },
  {
   "cell_type": "markdown",
   "metadata": {},
   "source": [
    "`s3_client.get_object_tagging(Bucket=bucket, Key=object_key)`"
   ]
  },
  {
   "cell_type": "markdown",
   "metadata": {},
   "source": [
    "![title](../data/media/desc_file_tags_get.png)"
   ]
  },
  {
   "cell_type": "code",
   "execution_count": 14,
   "metadata": {},
   "outputs": [],
   "source": [
    "bucket='slippl',\n",
    "object_key='dataframe.csv'"
   ]
  },
  {
   "cell_type": "code",
   "execution_count": 29,
   "metadata": {},
   "outputs": [],
   "source": [
    "try:\n",
    "    get_tags_response = s3_client.get_object_tagging(\n",
    "        Bucket=bucket,\n",
    "        Key=object_key\n",
    "    )\n",
    "\n",
    "    get_tags_response\n",
    "except Exception as e:\n",
    "    print(e)"
   ]
  },
  {
   "cell_type": "code",
   "execution_count": 30,
   "metadata": {},
   "outputs": [
    {
     "data": {
      "text/plain": [
       "{'ResponseMetadata': {'RequestId': 'FTKKBEX5E31BQ216',\n",
       "  'HostId': '89Q0c6gOi52qRKyj6TPdbU8xHbtjSpcfsBUPqHlR18ge6gfuWGH14/Q/9W5L7PsKAfL+fbJfrQ3pHqaxaAPmoQ==',\n",
       "  'HTTPStatusCode': 200,\n",
       "  'HTTPHeaders': {'x-amz-id-2': '89Q0c6gOi52qRKyj6TPdbU8xHbtjSpcfsBUPqHlR18ge6gfuWGH14/Q/9W5L7PsKAfL+fbJfrQ3pHqaxaAPmoQ==',\n",
       "   'x-amz-request-id': 'FTKKBEX5E31BQ216',\n",
       "   'date': 'Wed, 07 Sep 2022 06:16:45 GMT',\n",
       "   'transfer-encoding': 'chunked',\n",
       "   'server': 'AmazonS3'},\n",
       "  'RetryAttempts': 0},\n",
       " 'TagSet': []}"
      ]
     },
     "execution_count": 30,
     "metadata": {},
     "output_type": "execute_result"
    }
   ],
   "source": [
    "get_tags_response"
   ]
  },
  {
   "cell_type": "markdown",
   "metadata": {},
   "source": [
    "<br>\n",
    "\n",
    "***\n",
    "\n",
    "<br>"
   ]
  },
  {
   "cell_type": "markdown",
   "metadata": {},
   "source": [
    "## Parameter & API: `PUT` Tagging"
   ]
  },
  {
   "cell_type": "markdown",
   "metadata": {},
   "source": [
    "`s3_client.put_object_tagging(Bucket=bucket, Key=object_key, Tagging=tag)`"
   ]
  },
  {
   "cell_type": "markdown",
   "metadata": {},
   "source": [
    "![title](../data/media/desc_file_tags_put.png)"
   ]
  },
  {
   "cell_type": "code",
   "execution_count": 23,
   "metadata": {},
   "outputs": [],
   "source": [
    "bucket = 'slippl'\n",
    "object_key = 'dataframe.csv'\n",
    "tag = {\n",
    "        'TagSet': [\n",
    "            {\n",
    "                'Key': 'type',\n",
    "                'Value': 'training_data'\n",
    "            }\n",
    "        ]\n",
    "    }"
   ]
  },
  {
   "cell_type": "code",
   "execution_count": 24,
   "metadata": {},
   "outputs": [],
   "source": [
    "put_tag_response = s3_client.put_object_tagging(\n",
    "    Bucket=bucket,\n",
    "    Key=object_key,    \n",
    "    Tagging=tag\n",
    ")"
   ]
  },
  {
   "cell_type": "code",
   "execution_count": 25,
   "metadata": {},
   "outputs": [
    {
     "data": {
      "text/plain": [
       "{'ResponseMetadata': {'RequestId': 'J32AQBN7XHHQG011',\n",
       "  'HostId': 'ekLv/tFC0T9LGbx++jiXNvjlKuUuJeGq2Xzm3UjsFkiHGYmUssr/FbHY7s8++0NP8jfuT5i7Y+Q=',\n",
       "  'HTTPStatusCode': 200,\n",
       "  'HTTPHeaders': {'x-amz-id-2': 'ekLv/tFC0T9LGbx++jiXNvjlKuUuJeGq2Xzm3UjsFkiHGYmUssr/FbHY7s8++0NP8jfuT5i7Y+Q=',\n",
       "   'x-amz-request-id': 'J32AQBN7XHHQG011',\n",
       "   'date': 'Wed, 07 Sep 2022 06:15:27 GMT',\n",
       "   'server': 'AmazonS3',\n",
       "   'content-length': '0'},\n",
       "  'RetryAttempts': 0}}"
      ]
     },
     "execution_count": 25,
     "metadata": {},
     "output_type": "execute_result"
    }
   ],
   "source": [
    "put_tag_response"
   ]
  },
  {
   "cell_type": "markdown",
   "metadata": {},
   "source": [
    "<br>\n",
    "\n",
    "***\n",
    "\n",
    "<br>"
   ]
  },
  {
   "cell_type": "markdown",
   "metadata": {},
   "source": [
    "## Parameter & API: `DELETE` Tags"
   ]
  },
  {
   "cell_type": "markdown",
   "metadata": {},
   "source": [
    "`s3_client.delete_object_tagging(Bucket=bucket, Key=object_key)`"
   ]
  },
  {
   "cell_type": "markdown",
   "metadata": {},
   "source": [
    "![title](../data/media/desc_file_tags_delete.png)"
   ]
  },
  {
   "cell_type": "code",
   "execution_count": 20,
   "metadata": {},
   "outputs": [],
   "source": [
    "bucket = 'slippl'\n",
    "object_key = 'dataframe.csv'"
   ]
  },
  {
   "cell_type": "code",
   "execution_count": 28,
   "metadata": {},
   "outputs": [],
   "source": [
    "response = s3_client.delete_object_tagging(\n",
    "    Bucket=bucket,\n",
    "    Key=object_key\n",
    ")"
   ]
  },
  {
   "cell_type": "code",
   "execution_count": 22,
   "metadata": {},
   "outputs": [
    {
     "data": {
      "text/plain": [
       "{'ResponseMetadata': {'RequestId': 'P6AJJ4FG40MJ98DR',\n",
       "  'HostId': '9gsFDzwTrWC7FKh3DAmoLNs5u2yDuUwsmXaP6L0k1DNHUhdZi7x2wWXmQMPkLwXMAjKpnYQ7t3k=',\n",
       "  'HTTPStatusCode': 204,\n",
       "  'HTTPHeaders': {'x-amz-id-2': '9gsFDzwTrWC7FKh3DAmoLNs5u2yDuUwsmXaP6L0k1DNHUhdZi7x2wWXmQMPkLwXMAjKpnYQ7t3k=',\n",
       "   'x-amz-request-id': 'P6AJJ4FG40MJ98DR',\n",
       "   'date': 'Wed, 07 Sep 2022 06:15:20 GMT',\n",
       "   'server': 'AmazonS3'},\n",
       "  'RetryAttempts': 0}}"
      ]
     },
     "execution_count": 22,
     "metadata": {},
     "output_type": "execute_result"
    }
   ],
   "source": [
    "response"
   ]
  },
  {
   "cell_type": "code",
   "execution_count": null,
   "metadata": {},
   "outputs": [],
   "source": []
  }
 ],
 "metadata": {
  "kernelspec": {
   "display_name": "Python 3.9.12",
   "language": "python",
   "name": "python3"
  },
  "language_info": {
   "codemirror_mode": {
    "name": "ipython",
    "version": 3
   },
   "file_extension": ".py",
   "mimetype": "text/x-python",
   "name": "python",
   "nbconvert_exporter": "python",
   "pygments_lexer": "ipython3",
   "version": "3.9.12"
  },
  "orig_nbformat": 4,
  "vscode": {
   "interpreter": {
    "hash": "c16943b8ea35d0b37fa7147d42b2e6641ce75e35fff1626e1fb776e821671979"
   }
  }
 },
 "nbformat": 4,
 "nbformat_minor": 2
}
